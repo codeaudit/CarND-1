{
 "cells": [
  {
   "cell_type": "code",
   "execution_count": 1,
   "metadata": {
    "collapsed": false
   },
   "outputs": [
    {
     "name": "stdout",
     "output_type": "stream",
     "text": [
      "Extracting ./train-images-idx3-ubyte.gz\n",
      "Extracting ./train-labels-idx1-ubyte.gz\n",
      "Extracting ./t10k-images-idx3-ubyte.gz\n",
      "Extracting ./t10k-labels-idx1-ubyte.gz\n"
     ]
    }
   ],
   "source": [
    "from tensorflow.examples.tutorials.mnist import input_data\n",
    "mnist = input_data.read_data_sets(\".\", one_hot=True, reshape=False)"
   ]
  },
  {
   "cell_type": "code",
   "execution_count": 2,
   "metadata": {
    "collapsed": true
   },
   "outputs": [],
   "source": [
    "import tensorflow as tf\n",
    "\n",
    "# Parameters\n",
    "learning_rate = 0.01\n",
    "batch_size = 128\n",
    "training_epochs = 30\n",
    "\n",
    "n_classes = 10"
   ]
  },
  {
   "cell_type": "code",
   "execution_count": 3,
   "metadata": {
    "collapsed": false
   },
   "outputs": [],
   "source": [
    "layer_width = {\n",
    "    'layer_1':32,\n",
    "    'layer_2':64,\n",
    "    'layer_3':128,\n",
    "    'fully_connected':512\n",
    "}\n",
    "\n",
    "weights = {\n",
    "    'layer_1':tf.Variable(tf.truncated_normal(\n",
    "            [5, 5, 1, layer_width['layer_1']])),\n",
    "    'layer_2':tf.Variable(tf.truncated_normal(\n",
    "            [5, 5, layer_width['layer_1'], layer_width['layer_2']])),\n",
    "    'layer_3':tf.Variable(tf.truncated_normal(\n",
    "            [5, 5, layer_width['layer_2'], layer_width['layer_3']])),\n",
    "    'fully_connected':tf.Variable(tf.truncated_normal(\n",
    "        [4*4*128, layer_width['fully_connected']])),\n",
    "    'out':tf.Variable(tf.truncated_normal(\n",
    "        [layer_width['fully_connected'], n_classes]))\n",
    "}\n",
    "\n",
    "biases = {\n",
    "    'layer_1':tf.Variable(tf.zeros(layer_width['layer_1'])),\n",
    "    'layer_2':tf.Variable(tf.zeros(layer_width['layer_2'])),\n",
    "    'layer_3':tf.Variable(tf.zeros(layer_width['layer_3'])),\n",
    "    'fully_connected':tf.Variable(tf.zeros(layer_width['fully_connected'])),\n",
    "    'out':tf.Variable(tf.zeros(n_classes))\n",
    "}"
   ]
  },
  {
   "cell_type": "code",
   "execution_count": 4,
   "metadata": {
    "collapsed": true
   },
   "outputs": [],
   "source": [
    "def conv2d(x, W, b, strides=1):\n",
    "    x = tf.nn.conv2d(x, W, strides=[1,strides,strides,1], padding='SAME')\n",
    "    x = tf.nn.bias_add(x, b)\n",
    "    return tf.nn.relu(x)\n",
    "\n",
    "def maxpool2d(x, k=2):\n",
    "    return tf.nn.max_pool(\n",
    "        x,\n",
    "        ksize=[1,k,k,1],\n",
    "        strides=[1,k,k,1],\n",
    "        padding='SAME')"
   ]
  },
  {
   "cell_type": "code",
   "execution_count": 7,
   "metadata": {
    "collapsed": true
   },
   "outputs": [],
   "source": [
    "def conv_net(x, weights, biases):\n",
    "    # Layer 1 - 28x28x1 to 14x14x32\n",
    "    conv1 = conv2d(x, weights['layer_1'], biases['layer_1'])\n",
    "    conv1 = maxpool2d(conv1)\n",
    "    \n",
    "    # Layer 2 - 14x14x32 to 7x7x64\n",
    "    conv2 = conv2d(conv1, weights['layer_2'], biases['layer_2'])\n",
    "    conv2 = maxpool2d(conv2)\n",
    "    \n",
    "    # Layer 3 - 7x7x64 to 4x4x128\n",
    "    conv3 = conv2d(conv2, weights['layer_3'], biases['layer_3'])\n",
    "    conv3 = maxpool2d(conv3)\n",
    "    \n",
    "    # Fully connected layer - 4x4x128 to 512\n",
    "    # Reshape conv3 output to fit fully connected layer input\n",
    "    fc1 = tf.reshape(\n",
    "        conv3,\n",
    "        [-1, weights['fully_connected'].get_shape().as_list()[0]])\n",
    "    fc1 = tf.add(\n",
    "        tf.matmul(fc1, weights['fully_connected']),\n",
    "        biases['fully_connected'])\n",
    "    fc1 = tf.nn.tanh(fc1)\n",
    "    \n",
    "    # Output layer - class prediction - 512 to 10\n",
    "    out = tf.add(\n",
    "        tf.matmul(fc1, weights['out']),\n",
    "        biases['out'])\n",
    "    return out"
   ]
  },
  {
   "cell_type": "code",
   "execution_count": 9,
   "metadata": {
    "collapsed": false
   },
   "outputs": [],
   "source": [
    "# Graph input\n",
    "x = tf.placeholder(tf.float32, [None, 28, 28, 1])\n",
    "y = tf.placeholder(tf.float32, [None, n_classes])\n",
    "\n",
    "logits = conv_net(x, weights, biases)\n",
    "\n",
    "# Define loss and optimizer\n",
    "loss = tf.reduce_mean(tf.nn.softmax_cross_entropy_with_logits(logits, y))\n",
    "optimizer = tf.train.GradientDescentOptimizer(learning_rate=learning_rate)\\\n",
    "            .minimize(loss)"
   ]
  },
  {
   "cell_type": "code",
   "execution_count": 14,
   "metadata": {
    "collapsed": false
   },
   "outputs": [
    {
     "name": "stdout",
     "output_type": "stream",
     "text": [
      "Epoch: 0001 cost= 5.954862118\n",
      "Epoch: 0002 cost= 7.171306610\n",
      "Epoch: 0003 cost= 5.587461948\n",
      "Epoch: 0004 cost= 6.547703266\n",
      "Epoch: 0005 cost= 2.620368004\n",
      "Epoch: 0006 cost= 2.545758963\n",
      "Epoch: 0007 cost= 2.731041908\n",
      "Epoch: 0008 cost= 4.273614407\n",
      "Epoch: 0009 cost= 3.057936668\n",
      "Epoch: 0010 cost= 2.537177086\n",
      "Epoch: 0011 cost= 3.236813545\n",
      "Epoch: 0012 cost= 2.444550991\n",
      "Epoch: 0013 cost= 2.635271788\n",
      "Epoch: 0014 cost= 2.328088284\n",
      "Epoch: 0015 cost= 2.279029131\n",
      "Epoch: 0016 cost= 2.281298399\n",
      "Epoch: 0017 cost= 2.295808554\n",
      "Epoch: 0018 cost= 2.336714983\n",
      "Epoch: 0019 cost= 2.310711384\n",
      "Epoch: 0020 cost= 2.307648897\n",
      "Epoch: 0021 cost= 2.273983240\n",
      "Epoch: 0022 cost= 2.268383503\n",
      "Epoch: 0023 cost= 2.272824526\n",
      "Epoch: 0024 cost= 2.298228979\n",
      "Epoch: 0025 cost= 2.250019073\n",
      "Epoch: 0026 cost= 2.279612064\n",
      "Epoch: 0027 cost= 2.302534819\n",
      "Epoch: 0028 cost= 2.299911022\n",
      "Epoch: 0029 cost= 2.323016882\n",
      "Epoch: 0030 cost= 2.273174047\n",
      "Optimization finished!\n",
      "Accuracy:  0.0978\n"
     ]
    }
   ],
   "source": [
    "init = tf.initialize_all_variables()\n",
    "\n",
    "with tf.Session() as sess:\n",
    "    sess.run(init)\n",
    "    \n",
    "    for epoch in range(training_epochs):\n",
    "        total_batch = int(mnist.train.num_examples/batch_size)\n",
    "        \n",
    "        for i in range(total_batch):\n",
    "            batch_x, batch_y = mnist.train.next_batch(batch_size)\n",
    "            \n",
    "            sess.run(optimizer, feed_dict={x:batch_x, y:batch_y})\n",
    "        \n",
    "        c = sess.run(loss, feed_dict={x:batch_x, y:batch_y})\n",
    "        print(\"Epoch:\", '%04d' % (epoch+1), \"cost=\", \"{:.9f}\".format(c))\n",
    "    \n",
    "    print(\"Optimization finished!\")\n",
    "    \n",
    "    correct_prediction = tf.equal(tf.argmax(logits, 1), tf.argmax(y, 1))\n",
    "    \n",
    "    accuracy = tf.reduce_mean(tf.cast(correct_prediction, \"float\"))\n",
    "    print(\"Accuracy: \",\n",
    "         accuracy.eval({x:mnist.test.images, y:mnist.test.labels}))"
   ]
  },
  {
   "cell_type": "code",
   "execution_count": null,
   "metadata": {
    "collapsed": true
   },
   "outputs": [],
   "source": []
  }
 ],
 "metadata": {
  "kernelspec": {
   "display_name": "Python 3",
   "language": "python",
   "name": "python3"
  },
  "language_info": {
   "codemirror_mode": {
    "name": "ipython",
    "version": 3
   },
   "file_extension": ".py",
   "mimetype": "text/x-python",
   "name": "python",
   "nbconvert_exporter": "python",
   "pygments_lexer": "ipython3",
   "version": "3.4.3"
  }
 },
 "nbformat": 4,
 "nbformat_minor": 1
}
