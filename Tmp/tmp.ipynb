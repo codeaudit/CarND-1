{
 "cells": [
  {
   "cell_type": "code",
   "execution_count": 1,
   "metadata": {
    "collapsed": false
   },
   "outputs": [],
   "source": [
    "import pickle\n",
    "import gzip\n",
    "import numpy as np\n",
    "import matplotlib.pyplot as plt\n",
    "%matplotlib inline\n",
    "\n",
    "with gzip.open('mnist.pkl.gz', 'rb') as f:\n",
    "    u = pickle._Unpickler(f)\n",
    "    u.encoding = 'latin1'\n",
    "    train_set, valid_set, test_set = u.load()"
   ]
  },
  {
   "cell_type": "code",
   "execution_count": 2,
   "metadata": {
    "collapsed": true
   },
   "outputs": [],
   "source": [
    "def one_hot(vector):\n",
    "    return np.array([[1 if j == vector[i] else 0 for j in range(10)]\n",
    "                     for i in range(len(vector))])"
   ]
  },
  {
   "cell_type": "code",
   "execution_count": 3,
   "metadata": {
    "collapsed": false
   },
   "outputs": [],
   "source": [
    "X_train, y_train = np.array(train_set[0]).reshape(-1, 28, 28)[...,None], one_hot(np.array(train_set[1]))\n",
    "X_val, y_val = np.array(valid_set[0]).reshape(-1, 28, 28)[...,None], one_hot(np.array(valid_set[1]))\n",
    "X_test, y_test = np.array(test_set[0]).reshape(-1, 28, 28)[...,None], one_hot(np.array(test_set[1]))"
   ]
  },
  {
   "cell_type": "code",
   "execution_count": 4,
   "metadata": {
    "collapsed": false
   },
   "outputs": [],
   "source": [
    "from models import ConvNet\n",
    "import tensorflow as tf\n",
    "\n",
    "model = ConvNet(training_epochs=50, image_shape=(28,28), n_classes=10)\n",
    "\n",
    "model.conv2d('L1', kernel_size=5, depth=6)\n",
    "model.pool2d('MAX')\n",
    "\n",
    "model.conv2d('L2', kernel_size=3, depth=16)\n",
    "model.pool2d('MAX')\n",
    "\n",
    "model.fully_connected('FC2', depth=1024)\n",
    "model.dropout()\n",
    "\n",
    "model.fully_connected('OUT', depth=10, ACTIVATION=None)"
   ]
  },
  {
   "cell_type": "code",
   "execution_count": 5,
   "metadata": {
    "collapsed": false
   },
   "outputs": [
    {
     "name": "stdout",
     "output_type": "stream",
     "text": [
      "Starting TensorFlow session...\n",
      " Epoch: 0050 | Accuracy: 0.978710949 | Change: -0.001269519\n",
      "Optimization Finished!! Training time: 00h:01m:58s\n"
     ]
    }
   ],
   "source": [
    "model.train(train=(X_train, y_train), val=(X_test, y_test))"
   ]
  },
  {
   "cell_type": "code",
   "execution_count": 6,
   "metadata": {
    "collapsed": false
   },
   "outputs": [
    {
     "data": {
      "text/plain": [
       "0.9899"
      ]
     },
     "execution_count": 6,
     "metadata": {},
     "output_type": "execute_result"
    },
    {
     "data": {
      "image/png": "[encoded data removed]",
      "text/plain": [
       "<matplotlib.figure.Figure at 0x7fcaeb9508d0>"
      ]
     },
     "metadata": {},
     "output_type": "display_data"
    }
   ],
   "source": [
    "model.score(X_train, y_train, plot=True)"
   ]
  },
  {
   "cell_type": "code",
   "execution_count": null,
   "metadata": {
    "collapsed": true
   },
   "outputs": [],
   "source": []
  }
 ],
 "metadata": {
  "kernelspec": {
   "display_name": "Python 3",
   "language": "python",
   "name": "python3"
  },
  "language_info": {
   "codemirror_mode": {
    "name": "ipython",
    "version": 3
   },
   "file_extension": ".py",
   "mimetype": "text/x-python",
   "name": "python",
   "nbconvert_exporter": "python",
   "pygments_lexer": "ipython3",
   "version": "3.4.3"
  }
 },
 "nbformat": 4,
 "nbformat_minor": 1
}
