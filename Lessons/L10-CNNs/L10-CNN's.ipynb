{
 "cells": [
  {
   "cell_type": "code",
   "execution_count": 2,
   "metadata": {
    "collapsed": false
   },
   "outputs": [
    {
     "name": "stdout",
     "output_type": "stream",
     "text": [
      "Extracting MNIST_data/train-images-idx3-ubyte.gz\n",
      "Extracting MNIST_data/train-labels-idx1-ubyte.gz\n",
      "Extracting MNIST_data/t10k-images-idx3-ubyte.gz\n",
      "Extracting MNIST_data/t10k-labels-idx1-ubyte.gz\n"
     ]
    }
   ],
   "source": [
    "import tensorflow as tf\n",
    "from tensorflow.examples.tutorials.mnist import input_data\n",
    "from tensorflow.contrib.layers import flatten\n",
    "\n",
    "mnist = input_data.read_data_sets(\"MNIST_data/\", one_hot=True)"
   ]
  },
  {
   "cell_type": "code",
   "execution_count": 10,
   "metadata": {
    "collapsed": false
   },
   "outputs": [
    {
     "name": "stdout",
     "output_type": "stream",
     "text": [
      "Successfully downloaded train-images-idx3-ubyte.gz 9912422 bytes.\n",
      "Extracting MNIST-data/train-images-idx3-ubyte.gz\n",
      "Successfully downloaded train-labels-idx1-ubyte.gz 28881 bytes.\n",
      "Extracting MNIST-data/train-labels-idx1-ubyte.gz\n",
      "Successfully downloaded t10k-images-idx3-ubyte.gz 1648877 bytes.\n",
      "Extracting MNIST-data/t10k-images-idx3-ubyte.gz\n",
      "Successfully downloaded t10k-labels-idx1-ubyte.gz 4542 bytes.\n",
      "Extracting MNIST-data/t10k-labels-idx1-ubyte.gz\n"
     ]
    },
    {
     "data": {
      "text/plain": [
       "Datasets(train=<tensorflow.contrib.learn.python.learn.datasets.mnist.DataSet object at 0x7fbcf423b080>, validation=<tensorflow.contrib.learn.python.learn.datasets.mnist.DataSet object at 0x7fbd48046d68>, test=<tensorflow.contrib.learn.python.learn.datasets.mnist.DataSet object at 0x7fbcd41c7dd8>)"
      ]
     },
     "execution_count": 10,
     "metadata": {},
     "output_type": "execute_result"
    }
   ],
   "source": [
    "tf.contrib.learn.python.learn.datasets.mnist.load_mnist()"
   ]
  },
  {
   "cell_type": "code",
   "execution_count": 36,
   "metadata": {
    "collapsed": true
   },
   "outputs": [],
   "source": [
    "EPOCHS = 20\n",
    "BATCH_SIZE = 50"
   ]
  },
  {
   "cell_type": "code",
   "execution_count": null,
   "metadata": {
    "collapsed": true
   },
   "outputs": [],
   "source": [
    "def conv2d(x, W, b, s=1):\n",
    "    x = tf.nn.conv2d(x, W, strides=[1,s,s,1], padding='VALID')\n",
    "    x = tf.nn.bias_add(x, b)\n",
    "    return tf.nn.relu(x)\n",
    "\n",
    "def maxpool2d(x, k=2):\n",
    "    return tf.nn.max_pool(\n",
    "        x,\n",
    "        ksize=[1,k,k,1],\n",
    "        strides=[1,k,k,1],\n",
    "        padding='VALID')\n",
    "\n",
    "def fully_connected(x, W, b):\n",
    "    a = tf.add(tf.matmul(x, W), b)\n",
    "    return tf.nn.tanh(a)\n",
    "    \n",
    "def LeNet(x):\n",
    "    x = tf.reshape(x, (-1, 28, 28, 1))\n",
    "    x = tf.pad(x, [[0,0], [2,2], [2,2], [0,0]], mode='CONSTANT')\n",
    "    \n",
    "    n_classes = 10\n",
    "    \n",
    "    layer_depth = {\n",
    "        'L1':6,\n",
    "        'L2':16,\n",
    "        'FC':120\n",
    "    }\n",
    "    \n",
    "    weights = {\n",
    "        'L1':tf.Variable(tf.truncated_normal(\n",
    "             [5,5,1,layer_depth['L1']])),\n",
    "        'L2':tf.Variable(tf.truncated_normal(\n",
    "             [3,3,layer_depth['L1'],layer_depth['L2']])),\n",
    "        'FC':tf.Variable(tf.truncated_normal(\n",
    "             [1024, layer_depth['FC']])),\n",
    "        'OUT':tf.Variable(tf.truncated_normal(\n",
    "             [layer_depth['FC'], n_classes]))\n",
    "    }\n",
    "    \n",
    "    biases = {\n",
    "        'L1':tf.Variable(tf.zeros(layer_depth['L1'])),\n",
    "        'L2':tf.Variable(tf.zeros(layer_depth['L2'])),\n",
    "        'FC':tf.Variable(tf.zeros(layer_depth['FC'])),\n",
    "        'OUT':tf.Variable(tf.zeros(n_classes))\n",
    "    }\n",
    "    \n",
    "    # Create layers\n",
    "    conv1 = conv2d(x, weights['L1'], biases['L1'])\n",
    "    conv1 = maxpool2d(conv1)\n",
    "    \n",
    "    conv2 = conv2d(conv1, weights['L2'], biases['L2'])\n",
    "    conv2 = maxpool2d(conv2)\n",
    "    \n",
    "    flat = flatten(conv2)\n",
    "    \n",
    "    fc_shape = flat.get_shape().as_list()[-1]\n",
    "    weights['FC'] = tf.Variable(tf.truncated_normal([fc_shape, layer_depth['FC']]))\n",
    "    \n",
    "    fc = fully_connected(flat, weights['FC'], biases['FC'])\n",
    "    \n",
    "    out = fully_connected(fc, weights['OUT'], biases['OUT'])\n",
    "    \n",
    "    return out\n",
    "    "
   ]
  },
  {
   "cell_type": "code",
   "execution_count": 37,
   "metadata": {
    "collapsed": true
   },
   "outputs": [],
   "source": [
    "from models import ConvNet\n",
    "\n",
    "def LeNet(x, keep_prob):\n",
    "    x = tf.reshape(x, (-1, 28, 28, 1))\n",
    "    x = tf.pad(x, [[0,0], [2,2], [2,2], [0,0]], mode='CONSTANT')\n",
    "    \n",
    "    model = ConvNet(training_epochs=10, batch_size=50, n_classes=10)\n",
    "    model.DATA = x\n",
    "    model.KEEP_PROB = (keep_prob, 0.5)\n",
    "\n",
    "    model.conv2d('L1', kernel_size=5, depth=6)\n",
    "    model.pool2d('MAX')\n",
    "\n",
    "    model.conv2d('L2', kernel_size=3, depth=16)\n",
    "    model.pool2d('MAX')\n",
    "\n",
    "    model.fully_connected('FC', depth=120)\n",
    "    model.dropout()\n",
    "    \n",
    "    model.fully_connected('OUT', depth=10, ACTIVATION=None)\n",
    "    return model.LOGITS"
   ]
  },
  {
   "cell_type": "code",
   "execution_count": 38,
   "metadata": {
    "collapsed": false
   },
   "outputs": [
    {
     "name": "stdout",
     "output_type": "stream",
     "text": [
      "Extracting MNIST_data/train-images-idx3-ubyte.gz\n",
      "Extracting MNIST_data/train-labels-idx1-ubyte.gz\n",
      "Extracting MNIST_data/t10k-images-idx3-ubyte.gz\n",
      "Extracting MNIST_data/t10k-labels-idx1-ubyte.gz\n",
      "EPOCH 1 ...\n",
      "Validation loss = 3.076\n",
      "Validation accuracy = 0.233\n",
      "\n",
      "EPOCH 2 ...\n",
      "Validation loss = 2.260\n",
      "Validation accuracy = 0.191\n",
      "\n",
      "EPOCH 3 ...\n",
      "Validation loss = 2.199\n",
      "Validation accuracy = 0.191\n",
      "\n",
      "EPOCH 4 ...\n",
      "Validation loss = 2.085\n",
      "Validation accuracy = 0.208\n",
      "\n",
      "EPOCH 5 ...\n",
      "Validation loss = 2.027\n",
      "Validation accuracy = 0.230\n",
      "\n",
      "EPOCH 6 ...\n",
      "Validation loss = 1.923\n",
      "Validation accuracy = 0.272\n",
      "\n",
      "EPOCH 7 ...\n",
      "Validation loss = 1.905\n",
      "Validation accuracy = 0.356\n",
      "\n",
      "EPOCH 8 ...\n",
      "Validation loss = 1.828\n",
      "Validation accuracy = 0.389\n",
      "\n",
      "EPOCH 9 ...\n",
      "Validation loss = 1.687\n",
      "Validation accuracy = 0.358\n",
      "\n",
      "EPOCH 10 ...\n",
      "Validation loss = 1.558\n",
      "Validation accuracy = 0.414\n",
      "\n",
      "EPOCH 11 ...\n",
      "Validation loss = 1.541\n",
      "Validation accuracy = 0.417\n",
      "\n",
      "EPOCH 12 ...\n",
      "Validation loss = 1.536\n",
      "Validation accuracy = 0.413\n",
      "\n",
      "EPOCH 13 ...\n",
      "Validation loss = 1.648\n",
      "Validation accuracy = 0.463\n",
      "\n",
      "EPOCH 14 ...\n",
      "Validation loss = 1.394\n",
      "Validation accuracy = 0.482\n",
      "\n",
      "EPOCH 15 ...\n",
      "Validation loss = 1.338\n",
      "Validation accuracy = 0.516\n",
      "\n",
      "EPOCH 16 ...\n",
      "Validation loss = 1.301\n",
      "Validation accuracy = 0.537\n",
      "\n",
      "EPOCH 17 ...\n",
      "Validation loss = 1.309\n",
      "Validation accuracy = 0.546\n",
      "\n",
      "EPOCH 18 ...\n",
      "Validation loss = 1.295\n",
      "Validation accuracy = 0.536\n",
      "\n",
      "EPOCH 19 ...\n",
      "Validation loss = 1.214\n",
      "Validation accuracy = 0.551\n",
      "\n",
      "EPOCH 20 ...\n",
      "Validation loss = 1.139\n",
      "Validation accuracy = 0.589\n",
      "\n",
      "Test loss = 1.172\n",
      "Test accuracy = 0.591\n"
     ]
    }
   ],
   "source": [
    "# MNIST consists of 28x28x1, grayscale images\n",
    "x = tf.placeholder(tf.float32, (None, 784))\n",
    "# Classify over 10 digits 0-9\n",
    "y = tf.placeholder(tf.float32, (None, 10))\n",
    "keep_prob = tf.placeholder(tf.float32)\n",
    "fc2 = LeNet(x, keep_prob)\n",
    "\n",
    "loss_op = tf.reduce_mean(tf.nn.softmax_cross_entropy_with_logits(fc2, y))\n",
    "opt = tf.train.AdamOptimizer()\n",
    "train_op = opt.minimize(loss_op)\n",
    "correct_prediction = tf.equal(tf.argmax(fc2, 1), tf.argmax(y, 1))\n",
    "accuracy_op = tf.reduce_mean(tf.cast(correct_prediction, tf.float32))\n",
    "\n",
    "\n",
    "def eval_data(dataset):\n",
    "    \"\"\"\n",
    "    Given a dataset as input returns the loss and accuracy.\n",
    "    \"\"\"\n",
    "    # If dataset.num_examples is not divisible by BATCH_SIZE\n",
    "    # the remainder will be discarded.\n",
    "    # Ex: If BATCH_SIZE is 64 and training set has 55000 examples\n",
    "    # steps_per_epoch = 55000 // 64 = 859\n",
    "    # num_examples = 859 * 64 = 54976\n",
    "    #\n",
    "    # So in that case we go over 54976 examples instead of 55000.\n",
    "    steps_per_epoch = dataset.num_examples // BATCH_SIZE\n",
    "    num_examples = steps_per_epoch * BATCH_SIZE\n",
    "    total_acc, total_loss = 0, 0\n",
    "    for step in range(steps_per_epoch):\n",
    "        batch_x, batch_y = dataset.next_batch(BATCH_SIZE)\n",
    "        loss, acc = sess.run([loss_op, accuracy_op], feed_dict={x: batch_x, y: batch_y, keep_prob: 1.0})\n",
    "        total_acc += (acc * batch_x.shape[0])\n",
    "        total_loss += (loss * batch_x.shape[0])\n",
    "    return total_loss/num_examples, total_acc/num_examples\n",
    "\n",
    "\n",
    "if __name__ == '__main__':\n",
    "    # Load data\n",
    "    mnist = input_data.read_data_sets(\"MNIST_data/\", one_hot=True)\n",
    "\n",
    "    with tf.Session() as sess:\n",
    "        sess.run(tf.initialize_all_variables()) # tf.global_variables_initializer())\n",
    "        steps_per_epoch = mnist.train.num_examples // BATCH_SIZE\n",
    "        num_examples = steps_per_epoch * BATCH_SIZE\n",
    "\n",
    "        # Train model\n",
    "        for i in range(EPOCHS):\n",
    "            for step in range(steps_per_epoch):\n",
    "                batch_x, batch_y = mnist.train.next_batch(BATCH_SIZE)\n",
    "                loss = sess.run(train_op, feed_dict={x: batch_x, y: batch_y, keep_prob: 0.5})\n",
    "\n",
    "            val_loss, val_acc = eval_data(mnist.validation)\n",
    "            print(\"EPOCH {} ...\".format(i+1))\n",
    "            print(\"Validation loss = {:.3f}\".format(val_loss))\n",
    "            print(\"Validation accuracy = {:.3f}\".format(val_acc))\n",
    "            print()\n",
    "\n",
    "        # Evaluate on the test data\n",
    "        test_loss, test_acc = eval_data(mnist.test)\n",
    "        print(\"Test loss = {:.3f}\".format(test_loss))\n",
    "        print(\"Test accuracy = {:.3f}\".format(test_acc))"
   ]
  },
  {
   "cell_type": "code",
   "execution_count": null,
   "metadata": {
    "collapsed": true
   },
   "outputs": [],
   "source": [
    "As an additional fun exercise calculate the total number of parameters used by the network. Note, the convolutional layers use weight sharing!\n"
   ]
  }
 ],
 "metadata": {
  "kernelspec": {
   "display_name": "Python 3",
   "language": "python",
   "name": "python3"
  },
  "language_info": {
   "codemirror_mode": {
    "name": "ipython",
    "version": 3
   },
   "file_extension": ".py",
   "mimetype": "text/x-python",
   "name": "python",
   "nbconvert_exporter": "python",
   "pygments_lexer": "ipython3",
   "version": "3.4.3"
  }
 },
 "nbformat": 4,
 "nbformat_minor": 1
}
