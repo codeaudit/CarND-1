{
 "cells": [
  {
   "cell_type": "code",
   "execution_count": 2,
   "metadata": {
    "collapsed": true
   },
   "outputs": [],
   "source": [
    "import tensorflow as tf\n",
    "from tensorflow.examples.tutorials.mnist import input_data\n",
    "from tensorflow.contrib.layers import flatten"
   ]
  },
  {
   "cell_type": "code",
   "execution_count": 3,
   "metadata": {
    "collapsed": true
   },
   "outputs": [],
   "source": [
    "EPOCHS = 10\n",
    "BATCH_SIZE = 50"
   ]
  },
  {
   "cell_type": "code",
   "execution_count": 4,
   "metadata": {
    "collapsed": true
   },
   "outputs": [],
   "source": [
    "def conv2d(x, W, b, s=1):\n",
    "    x = tf.nn.conv2d(x, W, strides=[1,s,s,1], padding='SAME')\n",
    "    x = tf.nn.bias_add(x, b)\n",
    "    return tf.nn.relu(x)\n",
    "\n",
    "def maxpool2d(x, k=2):\n",
    "    return tf.nn.max_pool(\n",
    "        x,\n",
    "        ksize=[1,k,k,1],\n",
    "        strides=[1,k,k,1],\n",
    "        padding='VALID')\n",
    "\n",
    "def fully_connected(x, W, b):\n",
    "    a = tf.add(tf.matmul(x, W), b)\n",
    "    return tf.nn.tanh(a)\n",
    "    \n",
    "def LeNet(x):\n",
    "    x = tf.reshape(x, (-1, 28, 28, 1))\n",
    "    x = tf.pad(x, [[0,0], [2,2], [2,2], [0,0]], mode='CONSTANT')\n",
    "    \n",
    "    n_classes = 10\n",
    "    \n",
    "    layer_depth = {\n",
    "        'L1':6,\n",
    "        'L2':16,\n",
    "        'FC':120\n",
    "    }\n",
    "    \n",
    "    weights = {\n",
    "        'L1':tf.Variable(tf.truncated_normal(\n",
    "             [5,5,1,layer_depth['L1']])),\n",
    "        'L2':tf.Variable(tf.truncated_normal(\n",
    "             [3,3,layer_depth['L1'],layer_depth['L2']])),\n",
    "        'FC':tf.Variable(tf.truncated_normal(\n",
    "             [1024, layer_depth['FC']])),\n",
    "        'OUT':tf.Variable(tf.truncated_normal(\n",
    "             [layer_depth['FC'], n_classes]))\n",
    "    }\n",
    "    \n",
    "    biases = {\n",
    "        'L1':tf.Variable(tf.zeros(layer_depth['L1'])),\n",
    "        'L2':tf.Variable(tf.zeros(layer_depth['L2'])),\n",
    "        'FC':tf.Variable(tf.zeros(layer_depth['FC'])),\n",
    "        'OUT':tf.Variable(tf.zeros(n_classes))\n",
    "    }\n",
    "    \n",
    "    # Create layers\n",
    "    conv1 = conv2d(x, weights['L1'], biases['L1'])\n",
    "    conv1 = maxpool2d(conv1)\n",
    "    \n",
    "    conv2 = conv2d(conv1, weights['L2'], biases['L2'])\n",
    "    conv2 = maxpool2d(conv2)\n",
    "    \n",
    "    flat = tf.contrib.layers.flatten(conv2)\n",
    "    \n",
    "    fc = fully_connected(flat, weights['FC'], biases['FC'])\n",
    "    \n",
    "    out = fully_connected(fc, weights['OUT'], biases['OUT'])\n",
    "    \n",
    "    return out\n",
    "    "
   ]
  },
  {
   "cell_type": "code",
   "execution_count": null,
   "metadata": {
    "collapsed": false
   },
   "outputs": [
    {
     "name": "stdout",
     "output_type": "stream",
     "text": [
      "Extracting MNIST_data/train-images-idx3-ubyte.gz\n",
      "Extracting MNIST_data/train-labels-idx1-ubyte.gz\n",
      "Extracting MNIST_data/t10k-images-idx3-ubyte.gz\n",
      "Extracting MNIST_data/t10k-labels-idx1-ubyte.gz\n"
     ]
    }
   ],
   "source": [
    "# MNIST consists of 28x28x1, grayscale images\n",
    "x = tf.placeholder(tf.float32, (None, 784))\n",
    "# Classify over 10 digits 0-9\n",
    "y = tf.placeholder(tf.float32, (None, 10))\n",
    "fc2 = LeNet(x)\n",
    "\n",
    "loss_op = tf.reduce_mean(tf.nn.softmax_cross_entropy_with_logits(fc2, y))\n",
    "opt = tf.train.AdamOptimizer()\n",
    "train_op = opt.minimize(loss_op)\n",
    "correct_prediction = tf.equal(tf.argmax(fc2, 1), tf.argmax(y, 1))\n",
    "accuracy_op = tf.reduce_mean(tf.cast(correct_prediction, tf.float32))\n",
    "\n",
    "\n",
    "def eval_data(dataset):\n",
    "    \"\"\"\n",
    "    Given a dataset as input returns the loss and accuracy.\n",
    "    \"\"\"\n",
    "    # If dataset.num_examples is not divisible by BATCH_SIZE\n",
    "    # the remainder will be discarded.\n",
    "    # Ex: If BATCH_SIZE is 64 and training set has 55000 examples\n",
    "    # steps_per_epoch = 55000 // 64 = 859\n",
    "    # num_examples = 859 * 64 = 54976\n",
    "    #\n",
    "    # So in that case we go over 54976 examples instead of 55000.\n",
    "    steps_per_epoch = dataset.num_examples // BATCH_SIZE\n",
    "    num_examples = steps_per_epoch * BATCH_SIZE\n",
    "    total_acc, total_loss = 0, 0\n",
    "    for step in range(steps_per_epoch):\n",
    "        batch_x, batch_y = dataset.next_batch(BATCH_SIZE)\n",
    "        loss, acc = sess.run([loss_op, accuracy_op], feed_dict={x: batch_x, y: batch_y})\n",
    "        total_acc += (acc * batch_x.shape[0])\n",
    "        total_loss += (loss * batch_x.shape[0])\n",
    "    return total_loss/num_examples, total_acc/num_examples\n",
    "\n",
    "\n",
    "if __name__ == '__main__':\n",
    "    # Load data\n",
    "    mnist = input_data.read_data_sets(\"MNIST_data/\", one_hot=True)\n",
    "\n",
    "    with tf.Session() as sess:\n",
    "        sess.run(tf.initialize_all_variables()) # tf.global_variables_initializer())\n",
    "        steps_per_epoch = mnist.train.num_examples // BATCH_SIZE\n",
    "        num_examples = steps_per_epoch * BATCH_SIZE\n",
    "\n",
    "        # Train model\n",
    "        for i in range(EPOCHS):\n",
    "            for step in range(steps_per_epoch):\n",
    "                batch_x, batch_y = mnist.train.next_batch(BATCH_SIZE)\n",
    "                loss = sess.run(train_op, feed_dict={x: batch_x, y: batch_y})\n",
    "\n",
    "            val_loss, val_acc = eval_data(mnist.validation)\n",
    "            print(\"EPOCH {} ...\".format(i+1))\n",
    "            print(\"Validation loss = {:.3f}\".format(val_loss))\n",
    "            print(\"Validation accuracy = {:.3f}\".format(val_acc))\n",
    "            print()\n",
    "\n",
    "        # Evaluate on the test data\n",
    "        test_loss, test_acc = eval_data(mnist.test)\n",
    "        print(\"Test loss = {:.3f}\".format(test_loss))\n",
    "        print(\"Test accuracy = {:.3f}\".format(test_acc))"
   ]
  },
  {
   "cell_type": "code",
   "execution_count": null,
   "metadata": {
    "collapsed": true
   },
   "outputs": [],
   "source": []
  }
 ],
 "metadata": {
  "kernelspec": {
   "display_name": "Python 3",
   "language": "python",
   "name": "python3"
  },
  "language_info": {
   "codemirror_mode": {
    "name": "ipython",
    "version": 3
   },
   "file_extension": ".py",
   "mimetype": "text/x-python",
   "name": "python",
   "nbconvert_exporter": "python",
   "pygments_lexer": "ipython3",
   "version": "3.4.3"
  }
 },
 "nbformat": 4,
 "nbformat_minor": 1
}
